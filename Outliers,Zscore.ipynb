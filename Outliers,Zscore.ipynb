{
  "nbformat": 4,
  "nbformat_minor": 0,
  "metadata": {
    "colab": {
      "provenance": [],
      "authorship_tag": "ABX9TyObIlDUOagahIz/e8cMXSI+",
      "include_colab_link": true
    },
    "kernelspec": {
      "name": "python3",
      "display_name": "Python 3"
    },
    "language_info": {
      "name": "python"
    }
  },
  "cells": [
    {
      "cell_type": "markdown",
      "metadata": {
        "id": "view-in-github",
        "colab_type": "text"
      },
      "source": [
        "<a href=\"https://colab.research.google.com/github/Bipin-Gouda/Statistics/blob/main/Outliers%2CZscore.ipynb\" target=\"_parent\"><img src=\"https://colab.research.google.com/assets/colab-badge.svg\" alt=\"Open In Colab\"/></a>"
      ]
    },
    {
      "cell_type": "code",
      "execution_count": 1,
      "metadata": {
        "id": "wDxuPHe2DZMA"
      },
      "outputs": [],
      "source": [
        "import numpy as np\n",
        "import matplotlib.pyplot as plt\n",
        "%matplotlib inline"
      ]
    },
    {
      "cell_type": "code",
      "source": [
        "dataset=[11,10,12,13,14,15,128,11,12,14,15,108,13,15,15,14,14,11,12,13,11,12,13,14,15,111,14,15,13,12,10,10,10,11,12,13,14,15,10,10,10,10,11,13,13,13,13,13,14,14,14,14,14]"
      ],
      "metadata": {
        "id": "64G9Me0iFyBC"
      },
      "execution_count": 2,
      "outputs": []
    },
    {
      "cell_type": "code",
      "source": [
        "plt.hist(dataset)"
      ],
      "metadata": {
        "colab": {
          "base_uri": "https://localhost:8080/",
          "height": 499
        },
        "id": "bXYIhfHNH5kF",
        "outputId": "f1d0608f-e379-4f4d-f58c-e1cd41f32e93"
      },
      "execution_count": 3,
      "outputs": [
        {
          "output_type": "execute_result",
          "data": {
            "text/plain": [
              "(array([50.,  0.,  0.,  0.,  0.,  0.,  0.,  0.,  2.,  1.]),\n",
              " array([ 10. ,  21.8,  33.6,  45.4,  57.2,  69. ,  80.8,  92.6, 104.4,\n",
              "        116.2, 128. ]),\n",
              " <BarContainer object of 10 artists>)"
            ]
          },
          "metadata": {},
          "execution_count": 3
        },
        {
          "output_type": "display_data",
          "data": {
            "text/plain": [
              "<Figure size 640x480 with 1 Axes>"
            ],
            "image/png": "[encoded data removed]"
          },
          "metadata": {}
        }
      ]
    },
    {
      "cell_type": "markdown",
      "source": [
        "- Removing outliers with respect to zscore and std deviation in distribution in accordance with the emperical formulae"
      ],
      "metadata": {
        "id": "cLgcaHmoNXGj"
      }
    },
    {
      "cell_type": "code",
      "source": [
        "outliers=[]\n",
        "\n",
        "def detect_outliers(data):\n",
        "  threshold=3                   # if datapoint beyond 3rd std deviation it is outlier\n",
        "  mean=np.mean(data)\n",
        "  std=np.std(data)\n",
        "\n",
        "  for i in data:\n",
        "    zscore=(i-mean)/std\n",
        "    if np.abs(zscore)>threshold:                      # zscore means how many std devns away from mean   (zscore= (xi-mean)/std )\n",
        "      outliers.append(i)\n",
        "\n",
        "  return outliers"
      ],
      "metadata": {
        "id": "W7RIKyGtGe2R"
      },
      "execution_count": 4,
      "outputs": []
    },
    {
      "cell_type": "code",
      "source": [
        "detect_outliers(dataset)"
      ],
      "metadata": {
        "colab": {
          "base_uri": "https://localhost:8080/"
        },
        "id": "CwMJbfIRIWyd",
        "outputId": "9fddfcfa-c218-4f95-bd28-a757ac247557"
      },
      "execution_count": 5,
      "outputs": [
        {
          "output_type": "execute_result",
          "data": {
            "text/plain": [
              "[128, 108, 111]"
            ]
          },
          "metadata": {},
          "execution_count": 5
        }
      ]
    },
    {
      "cell_type": "markdown",
      "source": [
        "# In general outliers logic IQR"
      ],
      "metadata": {
        "id": "_XyrrpGbOGIF"
      }
    },
    {
      "cell_type": "markdown",
      "source": [
        "# IQR (25% - 75% range)\n",
        "1. sort the data\n",
        "2. Calculate Q1 and Q3\n",
        "3. IQR(Q3-Q1)\n",
        "4. Find the Lower fence (q1-1.5(iqr))\n",
        "5. Find the Upper fence (q3+1.5(iqr))"
      ],
      "metadata": {
        "id": "s6ubMhLfL3W0"
      }
    },
    {
      "cell_type": "code",
      "source": [
        "dataset=sorted(dataset)"
      ],
      "metadata": {
        "id": "aWKRJfymJnxL"
      },
      "execution_count": 6,
      "outputs": []
    },
    {
      "cell_type": "code",
      "source": [
        "q1,q3=np.percentile(dataset,[25,75])"
      ],
      "metadata": {
        "id": "15EA1R5UMVc4"
      },
      "execution_count": 7,
      "outputs": []
    },
    {
      "cell_type": "code",
      "source": [
        "print(q1,q3)"
      ],
      "metadata": {
        "colab": {
          "base_uri": "https://localhost:8080/"
        },
        "id": "w32RPA1IMjzI",
        "outputId": "6d522e0d-8005-4c33-e9df-a5680c4c1416"
      },
      "execution_count": 8,
      "outputs": [
        {
          "output_type": "stream",
          "name": "stdout",
          "text": [
            "11.0 14.0\n"
          ]
        }
      ]
    },
    {
      "cell_type": "code",
      "source": [
        "# Find the lower fence and upper fence\n",
        "outliers2=[]\n",
        "iqr=q3-q1\n",
        "lower_fence=q1-1.5*iqr\n",
        "upper_fence=q3+1.5*iqr\n",
        "for i in dataset:\n",
        "  if i<lower_fence or i>upper_fence:\n",
        "    outliers2.append(i)"
      ],
      "metadata": {
        "id": "jD9XssabMseL"
      },
      "execution_count": 9,
      "outputs": []
    },
    {
      "cell_type": "code",
      "source": [
        "outliers2"
      ],
      "metadata": {
        "colab": {
          "base_uri": "https://localhost:8080/"
        },
        "id": "TBtmWm4mOsV3",
        "outputId": "0fd80916-5e63-4b3c-9155-226cdc84b406"
      },
      "execution_count": 10,
      "outputs": [
        {
          "output_type": "execute_result",
          "data": {
            "text/plain": [
              "[108, 111, 128]"
            ]
          },
          "metadata": {},
          "execution_count": 10
        }
      ]
    },
    {
      "cell_type": "markdown",
      "source": [
        "# General Visualisation method Boxplot"
      ],
      "metadata": {
        "id": "WNFbM9oJPHOk"
      }
    },
    {
      "cell_type": "code",
      "source": [
        "import seaborn as sns\n",
        "sns.boxplot(dataset)"
      ],
      "metadata": {
        "colab": {
          "base_uri": "https://localhost:8080/",
          "height": 447
        },
        "id": "hhWXNRVvPGlr",
        "outputId": "5fe4cf14-48f7-4471-9661-80d3208c29df"
      },
      "execution_count": 11,
      "outputs": [
        {
          "output_type": "execute_result",
          "data": {
            "text/plain": [
              "<Axes: >"
            ]
          },
          "metadata": {},
          "execution_count": 11
        },
        {
          "output_type": "display_data",
          "data": {
            "text/plain": [
              "<Figure size 640x480 with 1 Axes>"
            ],
            "image/png": "[encoded data removed]"
          },
          "metadata": {}
        }
      ]
    },
    {
      "cell_type": "code",
      "source": [
        "dataset.remove(128)\n",
        "dataset.remove(111)\n",
        "dataset.remove(108)\n",
        "\n",
        "sns.boxplot(dataset)"
      ],
      "metadata": {
        "colab": {
          "base_uri": "https://localhost:8080/",
          "height": 447
        },
        "id": "nNdPJmmgPc6_",
        "outputId": "d6295ba0-1d6f-4741-f529-6523ba463a8f"
      },
      "execution_count": 12,
      "outputs": [
        {
          "output_type": "execute_result",
          "data": {
            "text/plain": [
              "<Axes: >"
            ]
          },
          "metadata": {},
          "execution_count": 12
        },
        {
          "output_type": "display_data",
          "data": {
            "text/plain": [
              "<Figure size 640x480 with 1 Axes>"
            ],
            "image/png": "[encoded data removed]"
          },
          "metadata": {}
        }
      ]
    },
    {
      "cell_type": "markdown",
      "source": [
        "- 25%=11, 75%=14,  median=13"
      ],
      "metadata": {
        "id": "bMPyO91NRDvD"
      }
    },
    {
      "cell_type": "code",
      "source": [],
      "metadata": {
        "id": "3wD1wlctPyUQ"
      },
      "execution_count": 12,
      "outputs": []
    }
  ]
}