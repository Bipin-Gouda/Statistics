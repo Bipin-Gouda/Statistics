{
  "nbformat": 4,
  "nbformat_minor": 0,
  "metadata": {
    "colab": {
      "provenance": [],
      "authorship_tag": "ABX9TyNCyVQIEp/XgQqaR0cfA3JG",
      "include_colab_link": true
    },
    "kernelspec": {
      "name": "python3",
      "display_name": "Python 3"
    },
    "language_info": {
      "name": "python"
    }
  },
  "cells": [
    {
      "cell_type": "markdown",
      "metadata": {
        "id": "view-in-github",
        "colab_type": "text"
      },
      "source": [
        "<a href=\"https://colab.research.google.com/github/Bipin-Gouda/Statistics/blob/main/Hypothesis_Testing.ipynb\" target=\"_parent\"><img src=\"https://colab.research.google.com/assets/colab-badge.svg\" alt=\"Open In Colab\"/></a>"
      ]
    },
    {
      "cell_type": "markdown",
      "source": [
        "# Ztest"
      ],
      "metadata": {
        "id": "IbR1NVjD4p9G"
      }
    },
    {
      "cell_type": "markdown",
      "source": [
        "Question: Suppose the IQ in a certain population is normally distributed with a mean of u = 100 and standard deviation of sigma = 15.\n",
        "\n",
        "A researcher wants to know if a new drug affects IQ levels, so he recruitss 20 patients to try it and record their IQ levels .\n",
        "\n",
        "The following code shows how to perform a one sample z-test in Python to determine if the new drug causes a significance difference in IQ levels. \n",
        "\n",
        "(generally alpha =0.05)"
      ],
      "metadata": {
        "id": "_h3KECijfH8n"
      }
    },
    {
      "cell_type": "code",
      "source": [
        "# ztest  .................................................... Note when asked abt outlier (beyond 3rd std) , when about hypothesis test ie p val"
      ],
      "metadata": {
        "id": "Y_a1AAszzX6h"
      },
      "execution_count": null,
      "outputs": []
    },
    {
      "cell_type": "code",
      "execution_count": null,
      "metadata": {
        "id": "oYk3qlCNe7J7"
      },
      "outputs": [],
      "source": [
        "from statsmodels.stats.weightstats import ztest as ztest\n",
        "\n",
        "#enter IQ levels for 20 patients  \n",
        "data=[88,92,94,96,97,97,97,99,99,105,109,109,109,110,112,112,113,114,115]\n",
        "\n",
        "ztestval,pvalue=ztest(data,value=110)                                           #(data,Null Hypothesis) mean=100 : Reject, mean= 110 : Accept"
      ]
    },
    {
      "cell_type": "code",
      "source": [
        "print(ztestval) # zscore\n",
        "print(pvalue)"
      ],
      "metadata": {
        "colab": {
          "base_uri": "https://localhost:8080/"
        },
        "id": "dcNreue4vXFT",
        "outputId": "348d58ea-23fb-4df1-d00a-350ec1636caf"
      },
      "execution_count": null,
      "outputs": [
        {
          "output_type": "stream",
          "name": "stdout",
          "text": [
            "-3.3220333130655386\n",
            "0.0008936402391666658\n"
          ]
        }
      ]
    },
    {
      "cell_type": "markdown",
      "source": [
        "zscore => how many std devn away from mean \n",
        "\n",
        "pvalue if < significance value(alpha) => Reject null hypothesis (it means output observed is not by chance) else Reject null hypothesis."
      ],
      "metadata": {
        "id": "m50sn3C-wqZ_"
      }
    },
    {
      "cell_type": "markdown",
      "source": [
        "Null hypothesis = mean is 100 (as its a known fact )"
      ],
      "metadata": {
        "id": "YrCQEHEFj_GS"
      }
    },
    {
      "cell_type": "markdown",
      "source": [
        "# Ttest"
      ],
      "metadata": {
        "id": "ujBGzNXx4mgO"
      }
    }
  ]
}